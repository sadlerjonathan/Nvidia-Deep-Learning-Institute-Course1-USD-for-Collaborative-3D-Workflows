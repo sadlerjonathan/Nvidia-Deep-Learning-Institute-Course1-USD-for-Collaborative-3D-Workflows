{
 "cells": [
  {
   "cell_type": "markdown",
   "metadata": {},
   "source": [
    "<a href=\"https://www.nvidia.com/dli\"> <img src=\"images/DLI_Header.png\" alt=\"Header\" style=\"width: 400px;\"/> </a>"
   ]
  },
  {
   "cell_type": "markdown",
   "metadata": {},
   "source": [
    "## Python Challenge\n",
    "\n",
    "In the [previous notebook](02_Advanced_USD.ipynb), we learned a variety of python functions that allowed us to generate and alter USD files. This gives us a powerful way to mass produce USD files. In this challenge, we will be looping over dictionaries to create a large number of [Variants](01_USD_Fundamentals.ipynb#Variants) and [References](01_USD_Fundamentals.ipynb#References) in order to ultimately create a scene.\n",
    "\n",
    "**Parts**:\n",
    "* [1: Color Variants](#Part-1:-Color-Variants)\n",
    "    * [a: createShapeMesh](#Part-1:-Color-Variants)\n",
    "    * [b: createColorVariants](#Part-1b:-createColorVariants)\n",
    "* [2: References](#Part-2:-References)\n",
    "    * [a: createReference](#Part-2a:-createReference)\n",
    "    * [b: modifyReference](#Part-2b:-modifyReference)\n",
    "\n",
    "## Setup\n",
    "\n",
    "This time, our generated USD files will be stored in the `usd_files/challenge` directory."
   ]
  },
  {
   "cell_type": "code",
   "execution_count": 1,
   "metadata": {},
   "outputs": [],
   "source": [
    "import json\n",
    "from pxr import Usd, UsdGeom\n",
    "from utils.display import display_usd\n",
    "\n",
    "basePath = \"usd_files/challenge/\""
   ]
  },
  {
   "cell_type": "markdown",
   "metadata": {},
   "source": [
    "## Part 1: Color Variants\n",
    "\n",
    "With our rendering tools, we have two shapes we can use to build a scene: `Cube`s and `Sphere`s. With a little bit of creativity, there's a lot we can create with these basic shapes. Let's create color `Variant`s of these shapes that we can use as the building blocks for more complex scenes. Below, we've defined a number of colors and their corresponding RGB values. Feel free to add some of your own."
   ]
  },
  {
   "cell_type": "code",
   "execution_count": 2,
   "metadata": {},
   "outputs": [],
   "source": [
    "shapes = [\"Sphere\", \"Cube\"]\n",
    "\n",
    "colors = {\n",
    "    \"Red\": [(1,0,0)],\n",
    "    \"Green\": [(0,1,0)],\n",
    "    \"DarkGreen\": [(0,.4,0)],\n",
    "    \"Blue\": [(0,0,1)],\n",
    "    \"Grey\": [(.5,.5,.5)],\n",
    "    \"Black\": [(0,0,0)],\n",
    "    \"Cyan\": [(0,1,1)],\n",
    "    \"Brown\": [(.8,.5,.25)],\n",
    "    \"Orange\": [(1,.5,0)],\n",
    "    \"Yellow\": [(1,1,0)]\n",
    "}"
   ]
  },
  {
   "cell_type": "markdown",
   "metadata": {},
   "source": [
    "**The Challenge**: For each shape, we'd like to create a Variant for each of the `colors` above that we can reference in other USD files. We've created a function below, `createShapesUSDs` to do this, but it is not complete.\n",
    "\n",
    "It has two functions, `createShapeMesh` and `createColorVariants`, which need to be defined."
   ]
  },
  {
   "cell_type": "code",
   "execution_count": 3,
   "metadata": {},
   "outputs": [],
   "source": [
    "def createShapeUSDs():\n",
    "    for shape in shapes:\n",
    "        shapeName = \"My\" + shape\n",
    "        shapePath = shapeName + \".usda\"\n",
    "        stage = Usd.Stage.CreateInMemory(shapePath)\n",
    "        xformPrim = stage.DefinePrim(\"/\" + shapeName, \"Xform\")\n",
    "\n",
    "        # Part 1a\n",
    "        shapeMesh = createShapeMesh(stage, shapeName)\n",
    "\n",
    "        # Part 1b\n",
    "        createColorVariants(xformPrim, shapeMesh)\n",
    "\n",
    "        # Print out the stage\n",
    "        print(stage.GetRootLayer().ExportToString())\n",
    "\n",
    "        # Save the resulting layer\n",
    "        stage.GetRootLayer().Export(basePath + shapePath)"
   ]
  },
  {
   "cell_type": "markdown",
   "metadata": {},
   "source": [
    "### Part 1a: createShapeMesh\n",
    "\n",
    "We've defined most of `createShapeMesh` below. It takes two parameters:\n",
    "\n",
    "* `stage` the [USD stage](https://graphics.pixar.com/usd/docs/api/class_usd_stage.html) \n",
    "* `shapeName` the name given to our shape used for file paths, defined as \"My\" + `shape`\n",
    "\n",
    "**TODO**: There are five FIXMEs below. Replace each FIXME with either `stage` or `shapeName`. For a hint, please refer to [Creating a Layer in USD](02_Advanced_USD.ipynb#Creating-a-Layer-in-USD) from the previous notebook or click the `...` for the full solution."
   ]
  },
  {
   "cell_type": "code",
   "execution_count": 4,
   "metadata": {},
   "outputs": [],
   "source": [
    "def createShapeMesh(stage, shapeName):\n",
    "    meshPath = \"/\" + FIXME + \"/MeshData\"\n",
    "    if FIXME == \"MySphere\":\n",
    "        shapeMesh = UsdGeom.Sphere.Define(FIXME, meshPath)\n",
    "    if FIXME == \"MyCube\":\n",
    "        shapeMesh = UsdGeom.Cube.Define(FIXME, meshPath)\n",
    "    return shapeMesh"
   ]
  },
  {
   "cell_type": "code",
   "execution_count": 5,
   "metadata": {
    "jupyter": {
     "source_hidden": true
    }
   },
   "outputs": [],
   "source": [
    "def createShapeMesh(stage, shapeName):\n",
    "    meshPath = \"/\" + shapeName + \"/MeshData\"\n",
    "    if shapeName == \"MySphere\":\n",
    "        shapeMesh = UsdGeom.Sphere.Define(stage, meshPath)\n",
    "    if shapeName == \"MyCube\":\n",
    "        shapeMesh = UsdGeom.Cube.Define(stage, meshPath)\n",
    "    return shapeMesh"
   ]
  },
  {
   "cell_type": "markdown",
   "metadata": {},
   "source": [
    "### Part 1b: createColorVariants\n",
    "\n",
    "We've defined most of `crateColorVariants` below. It takes two parameters:\n",
    "\n",
    "* `xformPrim` which is the root transform of our stage\n",
    "* `shapeMesh` which is the mesh for the shape we'd like to build a color variant for\n",
    "\n",
    "**TODO**: There are two FIXMEs below. Replace each FIXME with either `xformPrim` or `shapeMesh`. For a hint, please refer to [Understanding Variants](02_Advanced_USD.ipynb#Understanding-Variants) from the previous notebook or click the `...` for the full solution."
   ]
  },
  {
   "cell_type": "code",
   "execution_count": 6,
   "metadata": {},
   "outputs": [],
   "source": [
    "def createColorVariants(xformPrim, shapeMesh):\n",
    "    colorVariants = FIXME.GetVariantSets().AddVariantSet(\"ColorsRGB\")\n",
    "    colorAttr = FIXME.GetDisplayColorAttr()\n",
    "\n",
    "    for key, value in colors.items():\n",
    "        # Add variants to the VariantSet\n",
    "        colorVariants.AddVariant(key)\n",
    "        # Set the variant values\n",
    "        colorVariants.SetVariantSelection(key)\n",
    "        with colorVariants.GetVariantEditContext():\n",
    "            colorAttr.Set(value)"
   ]
  },
  {
   "cell_type": "code",
   "execution_count": 7,
   "metadata": {
    "jupyter": {
     "source_hidden": true
    }
   },
   "outputs": [],
   "source": [
    "def createColorVariants(xformPrim, shapeMesh):\n",
    "    colorVariants = xformPrim.GetVariantSets().AddVariantSet(\"ColorsRGB\")\n",
    "    colorAttr = shapeMesh.GetDisplayColorAttr()\n",
    "\n",
    "    for key, value in colors.items():\n",
    "        # Add variants to the VariantSet\n",
    "        colorVariants.AddVariant(key)\n",
    "        # Set the variant values\n",
    "        colorVariants.SetVariantSelection(key)\n",
    "        with colorVariants.GetVariantEditContext():\n",
    "            colorAttr.Set(value)"
   ]
  },
  {
   "cell_type": "markdown",
   "metadata": {},
   "source": [
    "If the exercises are done correctly, the below cell will generate the USD files for our cube and sphere as well as render a yellow cube."
   ]
  },
  {
   "cell_type": "code",
   "execution_count": 8,
   "metadata": {},
   "outputs": [
    {
     "name": "stdout",
     "output_type": "stream",
     "text": [
      "#usda 1.0\n",
      "\n",
      "def Xform \"MySphere\" (\n",
      "    variants = {\n",
      "        string ColorsRGB = \"Yellow\"\n",
      "    }\n",
      "    prepend variantSets = \"ColorsRGB\"\n",
      ")\n",
      "{\n",
      "    def Sphere \"MeshData\"\n",
      "    {\n",
      "    }\n",
      "    variantSet \"ColorsRGB\" = {\n",
      "        \"Black\" {\n",
      "            over \"MeshData\"\n",
      "            {\n",
      "                color3f[] primvars:displayColor = [(0, 0, 0)]\n",
      "            }\n",
      "\n",
      "        }\n",
      "        \"Blue\" {\n",
      "            over \"MeshData\"\n",
      "            {\n",
      "                color3f[] primvars:displayColor = [(0, 0, 1)]\n",
      "            }\n",
      "\n",
      "        }\n",
      "        \"Brown\" {\n",
      "            over \"MeshData\"\n",
      "            {\n",
      "                color3f[] primvars:displayColor = [(0.8, 0.5, 0.25)]\n",
      "            }\n",
      "\n",
      "        }\n",
      "        \"Cyan\" {\n",
      "            over \"MeshData\"\n",
      "            {\n",
      "                color3f[] primvars:displayColor = [(0, 1, 1)]\n",
      "            }\n",
      "\n",
      "        }\n",
      "        \"DarkGreen\" {\n",
      "            over \"MeshData\"\n",
      "            {\n",
      "                color3f[] primvars:displayColor = [(0, 0.4, 0)]\n",
      "            }\n",
      "\n",
      "        }\n",
      "        \"Green\" {\n",
      "            over \"MeshData\"\n",
      "            {\n",
      "                color3f[] primvars:displayColor = [(0, 1, 0)]\n",
      "            }\n",
      "\n",
      "        }\n",
      "        \"Grey\" {\n",
      "            over \"MeshData\"\n",
      "            {\n",
      "                color3f[] primvars:displayColor = [(0.5, 0.5, 0.5)]\n",
      "            }\n",
      "\n",
      "        }\n",
      "        \"Orange\" {\n",
      "            over \"MeshData\"\n",
      "            {\n",
      "                color3f[] primvars:displayColor = [(1, 0.5, 0)]\n",
      "            }\n",
      "\n",
      "        }\n",
      "        \"Red\" {\n",
      "            over \"MeshData\"\n",
      "            {\n",
      "                color3f[] primvars:displayColor = [(1, 0, 0)]\n",
      "            }\n",
      "\n",
      "        }\n",
      "        \"Yellow\" {\n",
      "            over \"MeshData\"\n",
      "            {\n",
      "                color3f[] primvars:displayColor = [(1, 1, 0)]\n",
      "            }\n",
      "\n",
      "        }\n",
      "    }\n",
      "}\n",
      "\n",
      "\n",
      "#usda 1.0\n",
      "\n",
      "def Xform \"MyCube\" (\n",
      "    variants = {\n",
      "        string ColorsRGB = \"Yellow\"\n",
      "    }\n",
      "    prepend variantSets = \"ColorsRGB\"\n",
      ")\n",
      "{\n",
      "    def Cube \"MeshData\"\n",
      "    {\n",
      "    }\n",
      "    variantSet \"ColorsRGB\" = {\n",
      "        \"Black\" {\n",
      "            over \"MeshData\"\n",
      "            {\n",
      "                color3f[] primvars:displayColor = [(0, 0, 0)]\n",
      "            }\n",
      "\n",
      "        }\n",
      "        \"Blue\" {\n",
      "            over \"MeshData\"\n",
      "            {\n",
      "                color3f[] primvars:displayColor = [(0, 0, 1)]\n",
      "            }\n",
      "\n",
      "        }\n",
      "        \"Brown\" {\n",
      "            over \"MeshData\"\n",
      "            {\n",
      "                color3f[] primvars:displayColor = [(0.8, 0.5, 0.25)]\n",
      "            }\n",
      "\n",
      "        }\n",
      "        \"Cyan\" {\n",
      "            over \"MeshData\"\n",
      "            {\n",
      "                color3f[] primvars:displayColor = [(0, 1, 1)]\n",
      "            }\n",
      "\n",
      "        }\n",
      "        \"DarkGreen\" {\n",
      "            over \"MeshData\"\n",
      "            {\n",
      "                color3f[] primvars:displayColor = [(0, 0.4, 0)]\n",
      "            }\n",
      "\n",
      "        }\n",
      "        \"Green\" {\n",
      "            over \"MeshData\"\n",
      "            {\n",
      "                color3f[] primvars:displayColor = [(0, 1, 0)]\n",
      "            }\n",
      "\n",
      "        }\n",
      "        \"Grey\" {\n",
      "            over \"MeshData\"\n",
      "            {\n",
      "                color3f[] primvars:displayColor = [(0.5, 0.5, 0.5)]\n",
      "            }\n",
      "\n",
      "        }\n",
      "        \"Orange\" {\n",
      "            over \"MeshData\"\n",
      "            {\n",
      "                color3f[] primvars:displayColor = [(1, 0.5, 0)]\n",
      "            }\n",
      "\n",
      "        }\n",
      "        \"Red\" {\n",
      "            over \"MeshData\"\n",
      "            {\n",
      "                color3f[] primvars:displayColor = [(1, 0, 0)]\n",
      "            }\n",
      "\n",
      "        }\n",
      "        \"Yellow\" {\n",
      "            over \"MeshData\"\n",
      "            {\n",
      "                color3f[] primvars:displayColor = [(1, 1, 0)]\n",
      "            }\n",
      "\n",
      "        }\n",
      "    }\n",
      "}\n",
      "\n",
      "\n"
     ]
    },
    {
     "data": {
      "text/html": [
       "\n",
       "        <style type=\"text/css\">\n",
       "          model-viewer {\n",
       "            width: 100%;\n",
       "            height: 600px;\n",
       "          }\n",
       "          model-viewer .loading {\n",
       "            color: #333333;\n",
       "            font-size: 125%;\n",
       "            font-weight: 700;\n",
       "            opacity: 80%;\n",
       "            position: absolute;\n",
       "            left: 50%;\n",
       "            top: 50%;\n",
       "            transform: translate3d(-50%, -50%, 0);\n",
       "            z-index: 100;\n",
       "          }\n",
       "        </style>\n",
       "\n",
       "\n",
       "        <script type=\"module\" src=\"https://unpkg.com/@google/model-viewer@1.7.2/dist/model-viewer.min.js\"></script>\n",
       "\n",
       "        <model-viewer\n",
       "          src=\"usd_files/challenge/MyCube.glb\"\n",
       "          ar\n",
       "          ar-modes=\"webxr scene-viewer quick-look\"\n",
       "          environment-image=\"neutral\"\n",
       "          auto-rotate\n",
       "          auto-rotate-delay=\"0\"\n",
       "          interaction-prompt-threshold=\"0\"\n",
       "          camera-controls\n",
       "          shadow-intensity=\"1.0\"\n",
       "          shadow-softness=\"1.0\" \n",
       "        >\n",
       "          <div class=\"loading\" slot=\"poster\">Loading your scene...</div>\n",
       "        </model-viewer>"
      ],
      "text/plain": [
       "<IPython.core.display.HTML object>"
      ]
     },
     "metadata": {},
     "output_type": "display_data"
    }
   ],
   "source": [
    "createShapeUSDs()\n",
    "display_usd(basePath + \"MyCube.usda\")"
   ]
  },
  {
   "cell_type": "markdown",
   "metadata": {},
   "source": [
    "## Part 2: References\n",
    "Now that we've defined our building blocks, let's put them to use! In the `usd_files/challenge/json/`, we have a sample [JSON files](https://www.w3schools.com/whatis/whatis_json.asp) defining the shapes used in a scene and the following properties:\n",
    "\n",
    "* `shape`: whether it's a sphere or a cube\n",
    "* `color`: corresponding to our color Variants above.\n",
    "* `translate`: the position of the object\n",
    "* `rotate`: the rotation of the object\n",
    "* `scale`: the size of the object\n",
    "\n",
    "Here is a sample from one of the files:"
   ]
  },
  {
   "cell_type": "code",
   "execution_count": 9,
   "metadata": {},
   "outputs": [
    {
     "name": "stdout",
     "output_type": "stream",
     "text": [
      "[\n",
      "  {\n",
      "    \"shape\": \"Sphere\",\n",
      "    \"color\": \"Yellow\",\n",
      "    \"translate\": [\n",
      "      0,\n",
      "      0,\n",
      "      0\n",
      "    ],\n",
      "    \"scale\": [\n"
     ]
    }
   ],
   "source": [
    "!head usd_files/challenge/json/sample1.json"
   ]
  },
  {
   "cell_type": "markdown",
   "metadata": {},
   "source": [
    "**The Challenge**: For each of our objects defined in our JSON file, we'd like to build an appropriate `Reference` to our `MyCube.usda` and `MySphere.usda` files. Like before, we've created a function, `renderJSON`, in order to accomplish this."
   ]
  },
  {
   "cell_type": "code",
   "execution_count": 10,
   "metadata": {},
   "outputs": [],
   "source": [
    "# Load shapes from json\n",
    "def renderJSON(path):\n",
    "    with open(path) as jsonFile:\n",
    "        shapeObjects = json.load(jsonFile)\n",
    "\n",
    "    # Create a temporary stage in memory\n",
    "    stage = Usd.Stage.CreateInMemory(\"MyScene.usda\")\n",
    "    xformPrim = stage.DefinePrim(\"/MyScene\", \"Xform\")\n",
    "\n",
    "    # Create a place for the reference to live\n",
    "    for idx, shapeProperties in enumerate(shapeObjects):\n",
    "        # Part 2a\n",
    "        shapePrim = createReference(stage, idx, shapeProperties)\n",
    "\n",
    "        # Part 2b\n",
    "        modifyReference(shapePrim, shapeProperties)\n",
    "\n",
    "    # Save the resulting layer\n",
    "    stage.Export(basePath + \"MyScene.usda\")\n",
    "    display_usd(basePath + \"MyScene.usda\")\n"
   ]
  },
  {
   "cell_type": "markdown",
   "metadata": {},
   "source": [
    "### Part 2a: createReference\n",
    "\n",
    "We've defined most of `createReference` below. It takes two parameters:\n",
    "\n",
    "* `stage`: the [USD stage](https://graphics.pixar.com/usd/docs/api/class_usd_stage.html) \n",
    "* `idx`: the numerical index given to the current object we're building a reference for\n",
    "* `shapeProperties`: the properties of the current object described in our JSON file\n",
    "\n",
    "**TODO**: This time, there are two FIXMEs below in order to create a reference to either `MyCube.usda` or `MySphere.usda`. Please replace them with the appropriate method names. For a hint, please refer to [Understanding how References work](02_Advanced_USD.ipynb#Understanding-how-References-work) from the previous notebook or click the `...` for the full solution."
   ]
  },
  {
   "cell_type": "code",
   "execution_count": 11,
   "metadata": {},
   "outputs": [],
   "source": [
    "def createReference(stage, idx, shapeProperties):\n",
    "    shapePrim = stage.DefinePrim(\"/MyScene/shape\" + str(idx)) \n",
    "    refPath = \"./\" + basePath + \"My\" + shapeProperties[\"shape\"] + \".usda\"\n",
    "    shapePrim.FIXME().FIXME(refPath, \"/My\" + shapeProperties[\"shape\"])\n",
    "    colorVariants = shapePrim.GetVariantSet(\"ColorsRGB\")\n",
    "    colorVariants.SetVariantSelection(shapeProperties[\"color\"])\n",
    "    return shapePrim"
   ]
  },
  {
   "cell_type": "code",
   "execution_count": 12,
   "metadata": {
    "jupyter": {
     "source_hidden": true
    }
   },
   "outputs": [],
   "source": [
    "def createReference(stage, idx, shapeProperties):\n",
    "    shapePrim = stage.DefinePrim(\"/MyScene/shape\" + str(idx)) \n",
    "    refPath = \"./\" + basePath + \"My\" + shapeProperties[\"shape\"] + \".usda\"\n",
    "    shapePrim.GetReferences().AddReference(refPath, \"/My\" + shapeProperties[\"shape\"])\n",
    "    colorVariants = shapePrim.GetVariantSet(\"ColorsRGB\")\n",
    "    colorVariants.SetVariantSelection(shapeProperties[\"color\"])\n",
    "    return shapePrim"
   ]
  },
  {
   "cell_type": "markdown",
   "metadata": {},
   "source": [
    "### Part 2b: modifyReference\n",
    "\n",
    "In `modifyReference` below, we apply the `translate`, `rotation`, and `scale` to our reference. We didn't show how to do this in the previous notebook, so we'll explain the details.\n",
    "\n",
    "* First, [UsdGeom.Xformable](https://graphics.pixar.com/usd/docs/api/class_usd_geom_xformable.html) takes a `Prim` and returns a `Transformable` (shorthand `Xform`), which allows us to perform affine transformations on our shape objects.\n",
    "* Then, we use [UsdGeom.XformCommonAPI](https://graphics.pixar.com/usd/docs/api/class_usd_geom_xform_common_a_p_i.html) in order to apply our desired affine transformations."
   ]
  },
  {
   "cell_type": "code",
   "execution_count": 13,
   "metadata": {},
   "outputs": [],
   "source": [
    "def modifyReference(shapePrim, shapeProperties):\n",
    "    refXform = UsdGeom.Xformable(shapePrim)\n",
    "    translate = shapeProperties.get(\"translate\")\n",
    "    rotate = shapeProperties.get(\"rotate\")\n",
    "    scale = shapeProperties.get(\"scale\")\n",
    "    if translate: UsdGeom.XformCommonAPI(refXform).SetTranslate(translate)\n",
    "    if rotate: UsdGeom.XformCommonAPI(refXform).SetRotate(rotate)\n",
    "    if scale: UsdGeom.XformCommonAPI(refXform).SetScale(scale)"
   ]
  },
  {
   "cell_type": "markdown",
   "metadata": {},
   "source": [
    "## Results\n",
    "Completed all the `FIXME`'s above? Time to appreciate the results of your hard work. Run the next few code cells to see the renderings of the JSON files. Feel free to create your own scene now that you've mastered the material!"
   ]
  },
  {
   "cell_type": "code",
   "execution_count": 14,
   "metadata": {},
   "outputs": [
    {
     "data": {
      "text/html": [
       "\n",
       "        <style type=\"text/css\">\n",
       "          model-viewer {\n",
       "            width: 100%;\n",
       "            height: 600px;\n",
       "          }\n",
       "          model-viewer .loading {\n",
       "            color: #333333;\n",
       "            font-size: 125%;\n",
       "            font-weight: 700;\n",
       "            opacity: 80%;\n",
       "            position: absolute;\n",
       "            left: 50%;\n",
       "            top: 50%;\n",
       "            transform: translate3d(-50%, -50%, 0);\n",
       "            z-index: 100;\n",
       "          }\n",
       "        </style>\n",
       "\n",
       "\n",
       "        <script type=\"module\" src=\"https://unpkg.com/@google/model-viewer@1.7.2/dist/model-viewer.min.js\"></script>\n",
       "\n",
       "        <model-viewer\n",
       "          src=\"usd_files/challenge/MyScene.glb\"\n",
       "          ar\n",
       "          ar-modes=\"webxr scene-viewer quick-look\"\n",
       "          environment-image=\"neutral\"\n",
       "          auto-rotate\n",
       "          auto-rotate-delay=\"0\"\n",
       "          interaction-prompt-threshold=\"0\"\n",
       "          camera-controls\n",
       "          shadow-intensity=\"1.0\"\n",
       "          shadow-softness=\"1.0\" \n",
       "        >\n",
       "          <div class=\"loading\" slot=\"poster\">Loading your scene...</div>\n",
       "        </model-viewer>"
      ],
      "text/plain": [
       "<IPython.core.display.HTML object>"
      ]
     },
     "metadata": {},
     "output_type": "display_data"
    }
   ],
   "source": [
    "renderJSON(basePath + \"json/sample1.json\")"
   ]
  },
  {
   "cell_type": "code",
   "execution_count": 15,
   "metadata": {},
   "outputs": [
    {
     "data": {
      "text/html": [
       "\n",
       "        <style type=\"text/css\">\n",
       "          model-viewer {\n",
       "            width: 100%;\n",
       "            height: 600px;\n",
       "          }\n",
       "          model-viewer .loading {\n",
       "            color: #333333;\n",
       "            font-size: 125%;\n",
       "            font-weight: 700;\n",
       "            opacity: 80%;\n",
       "            position: absolute;\n",
       "            left: 50%;\n",
       "            top: 50%;\n",
       "            transform: translate3d(-50%, -50%, 0);\n",
       "            z-index: 100;\n",
       "          }\n",
       "        </style>\n",
       "\n",
       "\n",
       "        <script type=\"module\" src=\"https://unpkg.com/@google/model-viewer@1.7.2/dist/model-viewer.min.js\"></script>\n",
       "\n",
       "        <model-viewer\n",
       "          src=\"usd_files/challenge/MyScene.glb\"\n",
       "          ar\n",
       "          ar-modes=\"webxr scene-viewer quick-look\"\n",
       "          environment-image=\"neutral\"\n",
       "          auto-rotate\n",
       "          auto-rotate-delay=\"0\"\n",
       "          interaction-prompt-threshold=\"0\"\n",
       "          camera-controls\n",
       "          shadow-intensity=\"1.0\"\n",
       "          shadow-softness=\"1.0\" \n",
       "        >\n",
       "          <div class=\"loading\" slot=\"poster\">Loading your scene...</div>\n",
       "        </model-viewer>"
      ],
      "text/plain": [
       "<IPython.core.display.HTML object>"
      ]
     },
     "metadata": {},
     "output_type": "display_data"
    }
   ],
   "source": [
    "renderJSON(basePath + \"json/sample2.json\")"
   ]
  },
  {
   "cell_type": "code",
   "execution_count": 16,
   "metadata": {},
   "outputs": [
    {
     "data": {
      "text/html": [
       "\n",
       "        <style type=\"text/css\">\n",
       "          model-viewer {\n",
       "            width: 100%;\n",
       "            height: 600px;\n",
       "          }\n",
       "          model-viewer .loading {\n",
       "            color: #333333;\n",
       "            font-size: 125%;\n",
       "            font-weight: 700;\n",
       "            opacity: 80%;\n",
       "            position: absolute;\n",
       "            left: 50%;\n",
       "            top: 50%;\n",
       "            transform: translate3d(-50%, -50%, 0);\n",
       "            z-index: 100;\n",
       "          }\n",
       "        </style>\n",
       "\n",
       "\n",
       "        <script type=\"module\" src=\"https://unpkg.com/@google/model-viewer@1.7.2/dist/model-viewer.min.js\"></script>\n",
       "\n",
       "        <model-viewer\n",
       "          src=\"usd_files/challenge/MyScene.glb\"\n",
       "          ar\n",
       "          ar-modes=\"webxr scene-viewer quick-look\"\n",
       "          environment-image=\"neutral\"\n",
       "          auto-rotate\n",
       "          auto-rotate-delay=\"0\"\n",
       "          interaction-prompt-threshold=\"0\"\n",
       "          camera-controls\n",
       "          shadow-intensity=\"1.0\"\n",
       "          shadow-softness=\"1.0\" \n",
       "        >\n",
       "          <div class=\"loading\" slot=\"poster\">Loading your scene...</div>\n",
       "        </model-viewer>"
      ],
      "text/plain": [
       "<IPython.core.display.HTML object>"
      ]
     },
     "metadata": {},
     "output_type": "display_data"
    }
   ],
   "source": [
    "renderJSON(basePath + \"json/congrats.json\")"
   ]
  },
  {
   "cell_type": "markdown",
   "metadata": {},
   "source": [
    "<a href=\"https://www.nvidia.com/dli\"> <img src=\"images/DLI_Header.png\" alt=\"Header\" style=\"width: 400px;\"/> </a>"
   ]
  }
 ],
 "metadata": {
  "kernelspec": {
   "display_name": "Python 3",
   "language": "python",
   "name": "python3"
  },
  "language_info": {
   "codemirror_mode": {
    "name": "ipython",
    "version": 3
   },
   "file_extension": ".py",
   "mimetype": "text/x-python",
   "name": "python",
   "nbconvert_exporter": "python",
   "pygments_lexer": "ipython3",
   "version": "3.7.6"
  }
 },
 "nbformat": 4,
 "nbformat_minor": 4
}
